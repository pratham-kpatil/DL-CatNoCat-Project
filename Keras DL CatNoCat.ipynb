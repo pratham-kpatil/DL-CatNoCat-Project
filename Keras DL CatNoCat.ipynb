{
 "cells": [
  {
   "cell_type": "code",
   "execution_count": 3,
   "id": "1a73221c",
   "metadata": {},
   "outputs": [],
   "source": [
    "import pandas as pd\n",
    "import numpy as np\n",
    "import matplotlib.pyplot as plt\n",
    "import tensorflow as tf\n",
    "from tensorflow import keras\n",
    "from lr_utils import load_dataset\n",
    "%matplotlib inline"
   ]
  },
  {
   "cell_type": "code",
   "execution_count": 4,
   "id": "2dd27472",
   "metadata": {},
   "outputs": [],
   "source": [
    "train_set_x_orig, train_set_y, test_set_x_orig, test_set_y, classes = load_dataset()"
   ]
  },
  {
   "cell_type": "code",
   "execution_count": 5,
   "id": "9203e36d",
   "metadata": {},
   "outputs": [
    {
     "name": "stdout",
     "output_type": "stream",
     "text": [
      "(209, 64, 64, 3)\n"
     ]
    }
   ],
   "source": [
    "print(train_set_x_orig.shape)"
   ]
  },
  {
   "cell_type": "code",
   "execution_count": 6,
   "id": "ce44697c",
   "metadata": {},
   "outputs": [
    {
     "data": {
      "text/plain": [
       "<matplotlib.image.AxesImage at 0x2267fc5ebb0>"
      ]
     },
     "execution_count": 6,
     "metadata": {},
     "output_type": "execute_result"
    },
    {
     "data": {
      "image/png": "[encoded data removed]",
      "text/plain": [
       "<Figure size 432x288 with 1 Axes>"
      ]
     },
     "metadata": {
      "needs_background": "light"
     },
     "output_type": "display_data"
    }
   ],
   "source": [
    "plt.imshow(train_set_x_orig[54])"
   ]
  },
  {
   "cell_type": "code",
   "execution_count": 23,
   "id": "e62aa8f4",
   "metadata": {},
   "outputs": [],
   "source": [
    "train_set_x_orig = train_set_x_orig/255\n",
    "test_set_x_orig = test_set_x_orig/255"
   ]
  },
  {
   "cell_type": "code",
   "execution_count": 24,
   "id": "9ea4ec9d",
   "metadata": {},
   "outputs": [
    {
     "data": {
      "text/plain": [
       "(209, 64, 64, 3)"
      ]
     },
     "execution_count": 24,
     "metadata": {},
     "output_type": "execute_result"
    }
   ],
   "source": [
    "train_set_x_orig.shape"
   ]
  },
  {
   "cell_type": "code",
   "execution_count": 75,
   "id": "1b3cddf1",
   "metadata": {},
   "outputs": [],
   "source": [
    "model = keras.Sequential([\n",
    "    keras.layers.Flatten(),\n",
    "    keras.layers.Dense(1024, activation='relu'),\n",
    "    keras.layers.Dense(1024, activation='relu'),\n",
    "    keras.layers.Dense(512, activation='relu'),\n",
    "    keras.layers.Dense(1,activation='sigmoid')\n",
    "])"
   ]
  },
  {
   "cell_type": "code",
   "execution_count": 76,
   "id": "4f7da494",
   "metadata": {},
   "outputs": [],
   "source": [
    "model.compile(optimizer='adam',\n",
    "              loss='binary_crossentropy',\n",
    "              metrics=['accuracy']\n",
    ")"
   ]
  },
  {
   "cell_type": "code",
   "execution_count": 77,
   "id": "1a4112fc",
   "metadata": {
    "scrolled": true
   },
   "outputs": [
    {
     "name": "stdout",
     "output_type": "stream",
     "text": [
      "Epoch 1/30\n",
      "7/7 [==============================] - 1s 64ms/step - loss: 0.6903 - accuracy: 0.6555\n",
      "Epoch 2/30\n",
      "7/7 [==============================] - 0s 59ms/step - loss: 0.6701 - accuracy: 0.6555\n",
      "Epoch 3/30\n",
      "7/7 [==============================] - 0s 57ms/step - loss: 0.6422 - accuracy: 0.6555\n",
      "Epoch 4/30\n",
      "7/7 [==============================] - 0s 58ms/step - loss: 0.6544 - accuracy: 0.6555\n",
      "Epoch 5/30\n",
      "7/7 [==============================] - 0s 60ms/step - loss: 0.6354 - accuracy: 0.6555\n",
      "Epoch 6/30\n",
      "7/7 [==============================] - 0s 57ms/step - loss: 0.6258 - accuracy: 0.6555\n",
      "Epoch 7/30\n",
      "7/7 [==============================] - 0s 60ms/step - loss: 0.6073 - accuracy: 0.6555\n",
      "Epoch 8/30\n",
      "7/7 [==============================] - 0s 59ms/step - loss: 0.5961 - accuracy: 0.6555\n",
      "Epoch 9/30\n",
      "7/7 [==============================] - 0s 59ms/step - loss: 0.5896 - accuracy: 0.6555\n",
      "Epoch 10/30\n",
      "7/7 [==============================] - 0s 60ms/step - loss: 0.5757 - accuracy: 0.6555\n",
      "Epoch 11/30\n",
      "7/7 [==============================] - 0s 57ms/step - loss: 0.5360 - accuracy: 0.6603\n",
      "Epoch 12/30\n",
      "7/7 [==============================] - 0s 61ms/step - loss: 0.5099 - accuracy: 0.7129\n",
      "Epoch 13/30\n",
      "7/7 [==============================] - 0s 54ms/step - loss: 0.5203 - accuracy: 0.7033\n",
      "Epoch 14/30\n",
      "7/7 [==============================] - 0s 58ms/step - loss: 0.5193 - accuracy: 0.6746\n",
      "Epoch 15/30\n",
      "7/7 [==============================] - 0s 57ms/step - loss: 0.4958 - accuracy: 0.7177\n",
      "Epoch 16/30\n",
      "7/7 [==============================] - 0s 57ms/step - loss: 0.4684 - accuracy: 0.7560\n",
      "Epoch 17/30\n",
      "7/7 [==============================] - 0s 58ms/step - loss: 0.4584 - accuracy: 0.7608\n",
      "Epoch 18/30\n",
      "7/7 [==============================] - 0s 58ms/step - loss: 0.5045 - accuracy: 0.7464\n",
      "Epoch 19/30\n",
      "7/7 [==============================] - 0s 57ms/step - loss: 0.4089 - accuracy: 0.8373\n",
      "Epoch 20/30\n",
      "7/7 [==============================] - 0s 58ms/step - loss: 0.3825 - accuracy: 0.8469\n",
      "Epoch 21/30\n",
      "7/7 [==============================] - 0s 58ms/step - loss: 0.3878 - accuracy: 0.8325\n",
      "Epoch 22/30\n",
      "7/7 [==============================] - 0s 58ms/step - loss: 0.4091 - accuracy: 0.7895\n",
      "Epoch 23/30\n",
      "7/7 [==============================] - 0s 57ms/step - loss: 0.4140 - accuracy: 0.8086\n",
      "Epoch 24/30\n",
      "7/7 [==============================] - 0s 57ms/step - loss: 0.4135 - accuracy: 0.7847\n",
      "Epoch 25/30\n",
      "7/7 [==============================] - 0s 58ms/step - loss: 0.3734 - accuracy: 0.8421\n",
      "Epoch 26/30\n",
      "7/7 [==============================] - 0s 57ms/step - loss: 0.4580 - accuracy: 0.7512\n",
      "Epoch 27/30\n",
      "7/7 [==============================] - 0s 57ms/step - loss: 0.3288 - accuracy: 0.8660\n",
      "Epoch 28/30\n",
      "7/7 [==============================] - 0s 59ms/step - loss: 0.3175 - accuracy: 0.8517\n",
      "Epoch 29/30\n",
      "7/7 [==============================] - 0s 58ms/step - loss: 0.2955 - accuracy: 0.8708\n",
      "Epoch 30/30\n",
      "7/7 [==============================] - 0s 56ms/step - loss: 0.2861 - accuracy: 0.8708\n"
     ]
    },
    {
     "data": {
      "text/plain": [
       "<keras.callbacks.History at 0x22601911ac0>"
      ]
     },
     "execution_count": 77,
     "metadata": {},
     "output_type": "execute_result"
    }
   ],
   "source": [
    "model.fit(train_set_x_orig, train_set_y.T, epochs=30)"
   ]
  },
  {
   "cell_type": "code",
   "execution_count": 79,
   "id": "2dad2bc3",
   "metadata": {},
   "outputs": [
    {
     "name": "stdout",
     "output_type": "stream",
     "text": [
      "50\n"
     ]
    }
   ],
   "source": [
    "y_pred = []\n",
    "pred = model.predict(test_set_x_orig)\n",
    "for i in pred:\n",
    "    if i>0.5:\n",
    "        y_pred.append(1)\n",
    "    else:\n",
    "        y_pred.append(0)\n",
    "print(len(y_pred))"
   ]
  },
  {
   "cell_type": "code",
   "execution_count": 91,
   "id": "7d1e8029",
   "metadata": {},
   "outputs": [
    {
     "data": {
      "text/plain": [
       "array([1, 0, 1, 1, 1, 0, 0, 1, 1, 0, 0, 0, 1, 1, 0, 1, 0, 1, 0, 0, 1, 0,\n",
       "       0, 0, 1, 0, 0, 0, 0, 1, 0, 0, 1, 0, 1, 0, 0, 1, 0, 0, 0, 0, 0, 0,\n",
       "       1, 0, 0, 1, 0, 0])"
      ]
     },
     "execution_count": 91,
     "metadata": {},
     "output_type": "execute_result"
    }
   ],
   "source": [
    "y_pred = np.array(y_pred)\n",
    "y_pred.reshape(50,1)\n",
    "y_pred"
   ]
  },
  {
   "cell_type": "code",
   "execution_count": 94,
   "id": "1e20b59b",
   "metadata": {},
   "outputs": [
    {
     "name": "stdout",
     "output_type": "stream",
     "text": [
      "2/2 [==============================] - 0s 8ms/step - loss: 1.3054 - accuracy: 0.5400\n"
     ]
    },
    {
     "data": {
      "text/plain": [
       "[1.3054481744766235, 0.5400000214576721]"
      ]
     },
     "execution_count": 94,
     "metadata": {},
     "output_type": "execute_result"
    }
   ],
   "source": [
    "model.evaluate(test_set_x_orig,test_set_y.T)"
   ]
  },
  {
   "cell_type": "code",
   "execution_count": 92,
   "id": "567d9da3",
   "metadata": {},
   "outputs": [
    {
     "data": {
      "text/plain": [
       "array([[1, 1, 1, 1, 1, 0, 1, 1, 1, 1, 1, 1, 1, 0, 0, 1, 0, 1, 1, 1, 1, 0,\n",
       "        0, 1, 1, 1, 1, 0, 1, 0, 1, 1, 1, 1, 0, 0, 0, 1, 0, 0, 1, 1, 1, 0,\n",
       "        0, 0, 1, 1, 1, 0]], dtype=int64)"
      ]
     },
     "execution_count": 92,
     "metadata": {},
     "output_type": "execute_result"
    }
   ],
   "source": [
    "test_set_y"
   ]
  },
  {
   "cell_type": "code",
   "execution_count": null,
   "id": "a5569ddc",
   "metadata": {},
   "outputs": [],
   "source": []
  }
 ],
 "metadata": {
  "kernelspec": {
   "display_name": "Python 3",
   "language": "python",
   "name": "python3"
  },
  "language_info": {
   "codemirror_mode": {
    "name": "ipython",
    "version": 3
   },
   "file_extension": ".py",
   "mimetype": "text/x-python",
   "name": "python",
   "nbconvert_exporter": "python",
   "pygments_lexer": "ipython3",
   "version": "3.8.8"
  }
 },
 "nbformat": 4,
 "nbformat_minor": 5
}
