{
 "cells": [
  {
   "cell_type": "code",
   "execution_count": 19,
   "id": "2096c095",
   "metadata": {},
   "outputs": [],
   "source": [
    "import tensorflow as tf\n",
    "from tensorflow import keras\n",
    "from keras.models import Sequential\n",
    "from keras.layers import Conv2D\n",
    "from keras.layers import MaxPool2D\n",
    "from keras.layers import Flatten\n",
    "from keras.layers import Dense"
   ]
  },
  {
   "cell_type": "code",
   "execution_count": 13,
   "id": "9e342750",
   "metadata": {},
   "outputs": [],
   "source": [
    "classifier = Sequential()"
   ]
  },
  {
   "cell_type": "code",
   "execution_count": 18,
   "id": "f754ac27",
   "metadata": {},
   "outputs": [],
   "source": [
    "classifier.add(Conv2D(filters=32, kernel_size=3, activation='relu', input_shape=[64,64,3]))"
   ]
  },
  {
   "cell_type": "code",
   "execution_count": 20,
   "id": "f8e6eb31",
   "metadata": {},
   "outputs": [],
   "source": [
    "classifier.add(MaxPool2D(pool_size=2, strides=2))"
   ]
  },
  {
   "cell_type": "code",
   "execution_count": 22,
   "id": "7833ded9",
   "metadata": {},
   "outputs": [],
   "source": [
    "classifier.add(Conv2D(filters=32, kernel_size=3, activation='relu'))\n",
    "classifier.add(MaxPool2D(pool_size=2, strides=2))"
   ]
  },
  {
   "cell_type": "code",
   "execution_count": 24,
   "id": "7a42f886",
   "metadata": {},
   "outputs": [],
   "source": [
    "classifier.add(Flatten())"
   ]
  },
  {
   "cell_type": "code",
   "execution_count": 25,
   "id": "a6e91212",
   "metadata": {},
   "outputs": [],
   "source": [
    "classifier.add(Dense(128, activation='relu'))"
   ]
  },
  {
   "cell_type": "code",
   "execution_count": 26,
   "id": "739f23b8",
   "metadata": {},
   "outputs": [],
   "source": [
    "classifier.add(Dense(1, activation='sigmoid'))"
   ]
  },
  {
   "cell_type": "code",
   "execution_count": 28,
   "id": "47024e88",
   "metadata": {},
   "outputs": [],
   "source": [
    "classifier.compile(optimizer='adam', loss='binary_crossentropy', metrics=['accuracy'])"
   ]
  },
  {
   "cell_type": "code",
   "execution_count": 38,
   "id": "1d86df41",
   "metadata": {},
   "outputs": [
    {
     "name": "stdout",
     "output_type": "stream",
     "text": [
      "Found 8000 images belonging to 2 classes.\n"
     ]
    }
   ],
   "source": [
    "from keras.preprocessing.image import ImageDataGenerator\n",
    "train_datagen = ImageDataGenerator(rescale = 1./255,\n",
    "                                   shear_range = 0.2,\n",
    "                                   zoom_range = 0.2,\n",
    "                                   horizontal_flip = True)\n",
    "training_set = train_datagen.flow_from_directory('training_set',\n",
    "                                                 target_size = (64, 64),\n",
    "                                                 batch_size = 32,\n",
    "                                                 class_mode = 'binary')"
   ]
  },
  {
   "cell_type": "code",
   "execution_count": 39,
   "id": "d01f9f43",
   "metadata": {},
   "outputs": [
    {
     "name": "stdout",
     "output_type": "stream",
     "text": [
      "Found 2000 images belonging to 2 classes.\n"
     ]
    }
   ],
   "source": [
    "test_datagen = ImageDataGenerator(rescale = 1./255)\n",
    "test_set = test_datagen.flow_from_directory('test_set',\n",
    "                                            target_size = (64, 64),\n",
    "                                            batch_size = 32,\n",
    "                                            class_mode = 'binary')"
   ]
  },
  {
   "cell_type": "code",
   "execution_count": 42,
   "id": "063f0812",
   "metadata": {},
   "outputs": [
    {
     "name": "stdout",
     "output_type": "stream",
     "text": [
      "Epoch 1/10\n",
      "250/250 [==============================] - 38s 150ms/step - loss: 0.6326 - accuracy: 0.6426 - val_loss: 0.6004 - val_accuracy: 0.6795\n",
      "Epoch 2/10\n",
      "250/250 [==============================] - 34s 134ms/step - loss: 0.5797 - accuracy: 0.6930 - val_loss: 0.6072 - val_accuracy: 0.6655\n",
      "Epoch 3/10\n",
      "250/250 [==============================] - 34s 136ms/step - loss: 0.5564 - accuracy: 0.7140 - val_loss: 0.5819 - val_accuracy: 0.7040\n",
      "Epoch 4/10\n",
      "250/250 [==============================] - 33s 134ms/step - loss: 0.5218 - accuracy: 0.7362 - val_loss: 0.5090 - val_accuracy: 0.7520\n",
      "Epoch 5/10\n",
      "250/250 [==============================] - 33s 134ms/step - loss: 0.4921 - accuracy: 0.7614 - val_loss: 0.4872 - val_accuracy: 0.7735\n",
      "Epoch 6/10\n",
      "250/250 [==============================] - 33s 134ms/step - loss: 0.4816 - accuracy: 0.7655 - val_loss: 0.5215 - val_accuracy: 0.7455\n",
      "Epoch 7/10\n",
      "250/250 [==============================] - 33s 134ms/step - loss: 0.4529 - accuracy: 0.7835 - val_loss: 0.4846 - val_accuracy: 0.7855\n",
      "Epoch 8/10\n",
      "250/250 [==============================] - 34s 134ms/step - loss: 0.4407 - accuracy: 0.7897 - val_loss: 0.4611 - val_accuracy: 0.7850\n",
      "Epoch 9/10\n",
      "250/250 [==============================] - 33s 134ms/step - loss: 0.4288 - accuracy: 0.7979 - val_loss: 0.4847 - val_accuracy: 0.7710\n",
      "Epoch 10/10\n",
      "250/250 [==============================] - 34s 137ms/step - loss: 0.4292 - accuracy: 0.8015 - val_loss: 0.4460 - val_accuracy: 0.7940\n"
     ]
    },
    {
     "data": {
      "text/plain": [
       "<keras.callbacks.History at 0x1a3575819d0>"
      ]
     },
     "execution_count": 42,
     "metadata": {},
     "output_type": "execute_result"
    }
   ],
   "source": [
    "classifier.fit(x = training_set, validation_data = test_set, epochs = 10)"
   ]
  },
  {
   "cell_type": "code",
   "execution_count": 46,
   "id": "7029888c",
   "metadata": {},
   "outputs": [
    {
     "data": {
      "text/plain": [
       "array([0, 0, 0, ..., 0, 0, 0])"
      ]
     },
     "execution_count": 46,
     "metadata": {},
     "output_type": "execute_result"
    }
   ],
   "source": [
    "y_pred = classifier.predict(test_set)\n",
    "y_pred = y_pred[y_pred>0.5].astype(int)\n",
    "y_pred"
   ]
  }
 ],
 "metadata": {
  "kernelspec": {
   "display_name": "Python 3",
   "language": "python",
   "name": "python3"
  },
  "language_info": {
   "codemirror_mode": {
    "name": "ipython",
    "version": 3
   },
   "file_extension": ".py",
   "mimetype": "text/x-python",
   "name": "python",
   "nbconvert_exporter": "python",
   "pygments_lexer": "ipython3",
   "version": "3.8.8"
  }
 },
 "nbformat": 4,
 "nbformat_minor": 5
}
